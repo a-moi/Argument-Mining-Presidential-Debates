{
 "cells": [
  {
   "cell_type": "code",
   "execution_count": null,
   "id": "acceptable-cyprus",
   "metadata": {},
   "outputs": [],
   "source": [
    "from tensorflow.keras.utils import to_categorical\n",
    "from vaderSentiment.vaderSentiment import SentimentIntensityAnalyzer"
   ]
  },
  {
   "cell_type": "code",
   "execution_count": null,
   "id": "chubby-swing",
   "metadata": {},
   "outputs": [],
   "source": [
    "filename = 'updated_csv.csv'\n",
    "df = pd.read_csv(filename)\n",
    "df2 = df[df.Annotation != 'None']\n",
    "\n",
    "#task 1, compile all sentences(for feature engineering) and corresponding labels, 1 for containing argument component\n",
    "all_sentences = df.iloc[:, 1].tolist()\n",
    "all_labels = df.iloc[:, 2].tolist()\n",
    "for i in range(len(all_labels)):\n",
    "    if all_labels[i] == \"Claim\" or all_labels[i] == \"Premise\":\n",
    "        all_labels[i] = 1\n",
    "    else:\n",
    "        all_labels[i] = 0\n",
    "        \n",
    "#task 2, compile only sentences containing claim/premise(for feature engineering) and corresponding labels, 1 for claim\n",
    "cp_sentences = df2.iloc[:, 1].tolist()\n",
    "cp_labels = df2.iloc[:, 2].tolist()\n",
    "for i in range(len(cp_labels)):\n",
    "    if cp_labels[i] == \"Claim\":\n",
    "        cp_labels[i] = 1\n",
    "    else:\n",
    "        cp_labels[i] = 0"
   ]
  },
  {
   "cell_type": "code",
   "execution_count": null,
   "id": "professional-drinking",
   "metadata": {},
   "outputs": [],
   "source": [
    "analyzer = SentimentIntensityAnalyzer()\n",
    "\n",
    "all_features = []\n",
    "for sentence in all_sentences:\n",
    "    vs = analyzer.polarity_scores(sentence)\n",
    "    all_features.append(list(vs.values()))\n",
    "    \n",
    "#print(all_features)\n",
    "    \n",
    "#################################################################\n",
    "cp_features = []\n",
    "for sentence in cp_sentences:\n",
    "    vs = analyzer.polarity_scores(sentence)\n",
    "    cp_features.append(list(vs.values()))\n",
    "\n",
    "#print(cp_features)\n",
    "\n"
   ]
  },
  {
   "cell_type": "code",
   "execution_count": null,
   "id": "superb-tower",
   "metadata": {},
   "outputs": [],
   "source": [
    "all_labels_cat = to_categorical(all_labels)\n",
    "all_features_arr = np.array(all_features)\n",
    "cp_labels_cat = to_categorical(cp_labels)\n",
    "cp_features_arr = np.array(cp_features)\n",
    "\n",
    "X_train, X_test, y_train, y_true = train_test_split(all_features_arr, all_labels_cat, test_size=0.25, random_state=42)"
   ]
  }
 ],
 "metadata": {
  "kernelspec": {
   "display_name": "Python 3",
   "language": "python",
   "name": "python3"
  },
  "language_info": {
   "codemirror_mode": {
    "name": "ipython",
    "version": 3
   },
   "file_extension": ".py",
   "mimetype": "text/x-python",
   "name": "python",
   "nbconvert_exporter": "python",
   "pygments_lexer": "ipython3",
   "version": "3.7.4"
  }
 },
 "nbformat": 4,
 "nbformat_minor": 5
}
