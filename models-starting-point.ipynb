{
 "cells": [
  {
   "cell_type": "markdown",
   "metadata": {},
   "source": [
    "# Argumentation Mining in US Presidential Debates "
   ]
  },
  {
   "cell_type": "code",
   "execution_count": 19,
   "metadata": {},
   "outputs": [],
   "source": [
    "import pandas as pd\n",
    "import matplotlib.pyplot as plt\n",
    "import seaborn as sns\n",
    "from sklearn.model_selection import train_test_split\n",
    "from sklearn.svm import SVC\n",
    "from sklearn.feature_extraction.text import TfidfVectorizer\n",
    "from sklearn.feature_extraction.text import CountVectorizer\n",
    "from sklearn.metrics import accuracy_score, confusion_matrix\n",
    "from sklearn.metrics import classification_report"
   ]
  },
  {
   "cell_type": "code",
   "execution_count": 5,
   "metadata": {},
   "outputs": [],
   "source": [
    "filename = 'updated_csv.csv'\n",
    "df = pd.read_csv(filename)"
   ]
  },
  {
   "cell_type": "markdown",
   "metadata": {},
   "source": [
    "## Task 1: Arguments vs Non-Arguements "
   ]
  },
  {
   "cell_type": "code",
   "execution_count": 12,
   "metadata": {},
   "outputs": [],
   "source": [
    "classes = []\n",
    "\n",
    "for s in df.Annotation:\n",
    "    if s == 'None':\n",
    "        classes.append(0.0)\n",
    "    else:\n",
    "        classes.append(1.0)"
   ]
  },
  {
   "cell_type": "code",
   "execution_count": 15,
   "metadata": {},
   "outputs": [],
   "source": [
    "df.Annotation = classes"
   ]
  },
  {
   "cell_type": "code",
   "execution_count": 25,
   "metadata": {},
   "outputs": [
    {
     "name": "stdout",
     "output_type": "stream",
     "text": [
      "We now have 36201 sentences in total\n"
     ]
    }
   ],
   "source": [
    "print ('We now have', len(df), 'sentences in total')"
   ]
  },
  {
   "cell_type": "markdown",
   "metadata": {},
   "source": [
    "### Some statistics "
   ]
  },
  {
   "cell_type": "code",
   "execution_count": null,
   "metadata": {},
   "outputs": [],
   "source": [
    "# to do: "
   ]
  },
  {
   "cell_type": "code",
   "execution_count": 17,
   "metadata": {},
   "outputs": [
    {
     "data": {
      "text/html": [
       "<div>\n",
       "<style scoped>\n",
       "    .dataframe tbody tr th:only-of-type {\n",
       "        vertical-align: middle;\n",
       "    }\n",
       "\n",
       "    .dataframe tbody tr th {\n",
       "        vertical-align: top;\n",
       "    }\n",
       "\n",
       "    .dataframe thead th {\n",
       "        text-align: right;\n",
       "    }\n",
       "</style>\n",
       "<table border=\"1\" class=\"dataframe\">\n",
       "  <thead>\n",
       "    <tr style=\"text-align: right;\">\n",
       "      <th></th>\n",
       "      <th>Index</th>\n",
       "      <th>Sentences</th>\n",
       "      <th>Annotation</th>\n",
       "    </tr>\n",
       "  </thead>\n",
       "  <tbody>\n",
       "    <tr>\n",
       "      <th>0</th>\n",
       "      <td>7</td>\n",
       "      <td>Good evening.</td>\n",
       "      <td>0.0</td>\n",
       "    </tr>\n",
       "    <tr>\n",
       "      <th>1</th>\n",
       "      <td>21</td>\n",
       "      <td>The television and radio stations of the Unite...</td>\n",
       "      <td>0.0</td>\n",
       "    </tr>\n",
       "    <tr>\n",
       "      <th>2</th>\n",
       "      <td>247</td>\n",
       "      <td>The candidates need no introduction.</td>\n",
       "      <td>0.0</td>\n",
       "    </tr>\n",
       "    <tr>\n",
       "      <th>3</th>\n",
       "      <td>284</td>\n",
       "      <td>The Republican candidate, Vice President Richa...</td>\n",
       "      <td>0.0</td>\n",
       "    </tr>\n",
       "    <tr>\n",
       "      <th>4</th>\n",
       "      <td>398</td>\n",
       "      <td>According to rules set by the candidates thems...</td>\n",
       "      <td>0.0</td>\n",
       "    </tr>\n",
       "    <tr>\n",
       "      <th>5</th>\n",
       "      <td>599</td>\n",
       "      <td>In between the candidates will answer, or comm...</td>\n",
       "      <td>0.0</td>\n",
       "    </tr>\n",
       "    <tr>\n",
       "      <th>6</th>\n",
       "      <td>709</td>\n",
       "      <td>In this, the first discussion in a series of f...</td>\n",
       "      <td>0.0</td>\n",
       "    </tr>\n",
       "    <tr>\n",
       "      <th>7</th>\n",
       "      <td>879</td>\n",
       "      <td>And now for the first opening statement by Sen...</td>\n",
       "      <td>0.0</td>\n",
       "    </tr>\n",
       "    <tr>\n",
       "      <th>8</th>\n",
       "      <td>956</td>\n",
       "      <td>Mr. Smith, Mr. Nixon.</td>\n",
       "      <td>0.0</td>\n",
       "    </tr>\n",
       "    <tr>\n",
       "      <th>9</th>\n",
       "      <td>978</td>\n",
       "      <td>In the election of 1860, Abraham Lincoln said ...</td>\n",
       "      <td>0.0</td>\n",
       "    </tr>\n",
       "    <tr>\n",
       "      <th>10</th>\n",
       "      <td>1098</td>\n",
       "      <td>In the election of 1960, and with the world ar...</td>\n",
       "      <td>1.0</td>\n",
       "    </tr>\n",
       "    <tr>\n",
       "      <th>11</th>\n",
       "      <td>1375</td>\n",
       "      <td>I think it will depend in great measure upon w...</td>\n",
       "      <td>1.0</td>\n",
       "    </tr>\n",
       "    <tr>\n",
       "      <th>12</th>\n",
       "      <td>1538</td>\n",
       "      <td>We discuss tonight domestic issues, but I woul...</td>\n",
       "      <td>1.0</td>\n",
       "    </tr>\n",
       "    <tr>\n",
       "      <th>13</th>\n",
       "      <td>1717</td>\n",
       "      <td>Mr. Khrushchev is in New York, and he maintain...</td>\n",
       "      <td>1.0</td>\n",
       "    </tr>\n",
       "    <tr>\n",
       "      <th>14</th>\n",
       "      <td>1870</td>\n",
       "      <td>The Chinese Communists have always had a large...</td>\n",
       "      <td>1.0</td>\n",
       "    </tr>\n",
       "    <tr>\n",
       "      <th>15</th>\n",
       "      <td>1929</td>\n",
       "      <td>But they are important and dangerous now becau...</td>\n",
       "      <td>1.0</td>\n",
       "    </tr>\n",
       "    <tr>\n",
       "      <th>16</th>\n",
       "      <td>2037</td>\n",
       "      <td>The kind of country we have here, the kind of ...</td>\n",
       "      <td>1.0</td>\n",
       "    </tr>\n",
       "    <tr>\n",
       "      <th>17</th>\n",
       "      <td>2183</td>\n",
       "      <td>If we do well here, if we meet our obligations...</td>\n",
       "      <td>0.0</td>\n",
       "    </tr>\n",
       "    <tr>\n",
       "      <th>18</th>\n",
       "      <td>2308</td>\n",
       "      <td>If we fail, then freedom fails.</td>\n",
       "      <td>0.0</td>\n",
       "    </tr>\n",
       "    <tr>\n",
       "      <th>19</th>\n",
       "      <td>2340</td>\n",
       "      <td>Therefore, I think the question before the Ame...</td>\n",
       "      <td>1.0</td>\n",
       "    </tr>\n",
       "  </tbody>\n",
       "</table>\n",
       "</div>"
      ],
      "text/plain": [
       "    Index                                          Sentences  Annotation\n",
       "0       7                                      Good evening.         0.0\n",
       "1      21  The television and radio stations of the Unite...         0.0\n",
       "2     247               The candidates need no introduction.         0.0\n",
       "3     284  The Republican candidate, Vice President Richa...         0.0\n",
       "4     398  According to rules set by the candidates thems...         0.0\n",
       "5     599  In between the candidates will answer, or comm...         0.0\n",
       "6     709  In this, the first discussion in a series of f...         0.0\n",
       "7     879  And now for the first opening statement by Sen...         0.0\n",
       "8     956                              Mr. Smith, Mr. Nixon.         0.0\n",
       "9     978  In the election of 1860, Abraham Lincoln said ...         0.0\n",
       "10   1098  In the election of 1960, and with the world ar...         1.0\n",
       "11   1375  I think it will depend in great measure upon w...         1.0\n",
       "12   1538  We discuss tonight domestic issues, but I woul...         1.0\n",
       "13   1717  Mr. Khrushchev is in New York, and he maintain...         1.0\n",
       "14   1870  The Chinese Communists have always had a large...         1.0\n",
       "15   1929  But they are important and dangerous now becau...         1.0\n",
       "16   2037  The kind of country we have here, the kind of ...         1.0\n",
       "17   2183  If we do well here, if we meet our obligations...         0.0\n",
       "18   2308                    If we fail, then freedom fails.         0.0\n",
       "19   2340  Therefore, I think the question before the Ame...         1.0"
      ]
     },
     "execution_count": 17,
     "metadata": {},
     "output_type": "execute_result"
    }
   ],
   "source": [
    "df.head(20)"
   ]
  },
  {
   "cell_type": "code",
   "execution_count": 22,
   "metadata": {},
   "outputs": [
    {
     "name": "stderr",
     "output_type": "stream",
     "text": [
      "/Users/mariap/anaconda3/lib/python3.7/site-packages/seaborn/_decorators.py:43: FutureWarning: Pass the following variable as a keyword arg: x. From version 0.12, the only valid positional argument will be `data`, and passing other arguments without an explicit keyword will result in an error or misinterpretation.\n",
      "  FutureWarning\n"
     ]
    },
    {
     "data": {
      "image/png": "[encoded data removed]",
      "text/plain": [
       "<Figure size 1440x864 with 1 Axes>"
      ]
     },
     "metadata": {
      "needs_background": "light"
     },
     "output_type": "display_data"
    }
   ],
   "source": [
    "plt.figure(figsize=(20,12))\n",
    "sns.countplot(df.Annotation.sort_values(), palette=\"Set3\")\n",
    "plt.title(\"Non-Argumentative vs Argumentative Sentences\",fontsize=20)\n",
    "loc, labels = plt.xticks()\n",
    "plt.xticks(fontsize=12,rotation=90)\n",
    "plt.show()"
   ]
  },
  {
   "cell_type": "code",
   "execution_count": 26,
   "metadata": {},
   "outputs": [],
   "source": [
    "X_train, X_test, y_train, y_test = train_test_split(df['Sentences'], df['Annotation'], test_size=0.3, shuffle=True)"
   ]
  },
  {
   "cell_type": "code",
   "execution_count": 27,
   "metadata": {},
   "outputs": [],
   "source": [
    "vectorizer = TfidfVectorizer(max_df=0.87,\n",
    "               smooth_idf=1, max_features=300000)\n",
    "\n",
    "#tf-idf\n",
    "train_vecs =  vectorizer.fit_transform(X_train)\n",
    "test_vecs = vectorizer.transform(X_test)"
   ]
  },
  {
   "cell_type": "code",
   "execution_count": 30,
   "metadata": {},
   "outputs": [
    {
     "data": {
      "text/plain": [
       "SVC(kernel='linear', random_state=1)"
      ]
     },
     "execution_count": 30,
     "metadata": {},
     "output_type": "execute_result"
    }
   ],
   "source": [
    "svm = SVC(kernel='linear', random_state = 1)\n",
    "svm.fit(train_vecs, y_train)"
   ]
  },
  {
   "cell_type": "code",
   "execution_count": 32,
   "metadata": {},
   "outputs": [
    {
     "name": "stdout",
     "output_type": "stream",
     "text": [
      "Confusion Matrix on Train Set\n",
      " [[ 4526  4681]\n",
      " [ 1007 15126]]\n"
     ]
    }
   ],
   "source": [
    "#confusion matrix on train set\n",
    "y_pred_train = svm.predict(train_vecs)\n",
    "cmx = confusion_matrix(y_train, y_pred_train)\n",
    "print('Confusion Matrix on Train Set\\n', cmx)"
   ]
  },
  {
   "cell_type": "code",
   "execution_count": 33,
   "metadata": {},
   "outputs": [
    {
     "name": "stdout",
     "output_type": "stream",
     "text": [
      "Confusion Matrix on Test Set\n",
      " [[1589 2293]\n",
      " [ 686 6293]]\n"
     ]
    }
   ],
   "source": [
    "#confusion matrix on test set\n",
    "y_pred_test = svm.predict(test_vecs)\n",
    "cmx = confusion_matrix(y_test, y_pred_test)\n",
    "print('Confusion Matrix on Test Set\\n', cmx)"
   ]
  },
  {
   "cell_type": "code",
   "execution_count": 34,
   "metadata": {},
   "outputs": [
    {
     "name": "stdout",
     "output_type": "stream",
     "text": [
      "              precision    recall  f1-score   support\n",
      "\n",
      "     class 0       0.70      0.41      0.52      3882\n",
      "     class 1       0.73      0.90      0.81      6979\n",
      "\n",
      "    accuracy                           0.73     10861\n",
      "   macro avg       0.72      0.66      0.66     10861\n",
      "weighted avg       0.72      0.73      0.70     10861\n",
      "\n"
     ]
    }
   ],
   "source": [
    "#classification report on test set\n",
    "target_names = ['class 0', 'class 1']\n",
    "print(classification_report(y_test, y_pred_test, target_names=target_names))"
   ]
  },
  {
   "cell_type": "code",
   "execution_count": 35,
   "metadata": {},
   "outputs": [],
   "source": [
    "bow = CountVectorizer(max_features=1000)\n",
    "bow_train = bow.fit_transform(X_train).toarray()\n",
    "bow_test = bow.transform(X_test).toarray()"
   ]
  },
  {
   "cell_type": "code",
   "execution_count": 36,
   "metadata": {},
   "outputs": [
    {
     "data": {
      "text/plain": [
       "SVC(kernel='linear', random_state=1)"
      ]
     },
     "execution_count": 36,
     "metadata": {},
     "output_type": "execute_result"
    }
   ],
   "source": [
    "svm.fit(bow_train, y_train)"
   ]
  },
  {
   "cell_type": "code",
   "execution_count": 37,
   "metadata": {},
   "outputs": [],
   "source": [
    "y_pred_train_bow = svm.predict(bow_train)\n",
    "y_pred_test_bow = svm.predict(bow_test)"
   ]
  },
  {
   "cell_type": "code",
   "execution_count": 38,
   "metadata": {},
   "outputs": [
    {
     "name": "stdout",
     "output_type": "stream",
     "text": [
      "              precision    recall  f1-score   support\n",
      "\n",
      "     class 0       0.72      0.30      0.43      3882\n",
      "     class 1       0.71      0.93      0.80      6979\n",
      "\n",
      "    accuracy                           0.71     10861\n",
      "   macro avg       0.71      0.62      0.62     10861\n",
      "weighted avg       0.71      0.71      0.67     10861\n",
      "\n"
     ]
    }
   ],
   "source": [
    "#classification report on test set\n",
    "target_names = ['class 0', 'class 1']\n",
    "print(classification_report(y_test, y_pred_test_bow, target_names=target_names))"
   ]
  },
  {
   "cell_type": "markdown",
   "metadata": {},
   "source": [
    "## Task 2: Claims vs Premises  "
   ]
  },
  {
   "cell_type": "code",
   "execution_count": 43,
   "metadata": {},
   "outputs": [],
   "source": [
    "df2 = pd.read_csv(filename)"
   ]
  },
  {
   "cell_type": "code",
   "execution_count": 44,
   "metadata": {},
   "outputs": [],
   "source": [
    "df2 = df2[df2.Annotation != 'None']"
   ]
  },
  {
   "cell_type": "code",
   "execution_count": 45,
   "metadata": {},
   "outputs": [
    {
     "data": {
      "text/html": [
       "<div>\n",
       "<style scoped>\n",
       "    .dataframe tbody tr th:only-of-type {\n",
       "        vertical-align: middle;\n",
       "    }\n",
       "\n",
       "    .dataframe tbody tr th {\n",
       "        vertical-align: top;\n",
       "    }\n",
       "\n",
       "    .dataframe thead th {\n",
       "        text-align: right;\n",
       "    }\n",
       "</style>\n",
       "<table border=\"1\" class=\"dataframe\">\n",
       "  <thead>\n",
       "    <tr style=\"text-align: right;\">\n",
       "      <th></th>\n",
       "      <th>Index</th>\n",
       "      <th>Sentences</th>\n",
       "      <th>Annotation</th>\n",
       "    </tr>\n",
       "  </thead>\n",
       "  <tbody>\n",
       "    <tr>\n",
       "      <th>10</th>\n",
       "      <td>1098</td>\n",
       "      <td>In the election of 1960, and with the world ar...</td>\n",
       "      <td>Premise</td>\n",
       "    </tr>\n",
       "    <tr>\n",
       "      <th>11</th>\n",
       "      <td>1375</td>\n",
       "      <td>I think it will depend in great measure upon w...</td>\n",
       "      <td>Claim</td>\n",
       "    </tr>\n",
       "    <tr>\n",
       "      <th>12</th>\n",
       "      <td>1538</td>\n",
       "      <td>We discuss tonight domestic issues, but I woul...</td>\n",
       "      <td>Claim</td>\n",
       "    </tr>\n",
       "    <tr>\n",
       "      <th>13</th>\n",
       "      <td>1717</td>\n",
       "      <td>Mr. Khrushchev is in New York, and he maintain...</td>\n",
       "      <td>Premise</td>\n",
       "    </tr>\n",
       "    <tr>\n",
       "      <th>14</th>\n",
       "      <td>1870</td>\n",
       "      <td>The Chinese Communists have always had a large...</td>\n",
       "      <td>Premise</td>\n",
       "    </tr>\n",
       "  </tbody>\n",
       "</table>\n",
       "</div>"
      ],
      "text/plain": [
       "    Index                                          Sentences Annotation\n",
       "10   1098  In the election of 1960, and with the world ar...    Premise\n",
       "11   1375  I think it will depend in great measure upon w...      Claim\n",
       "12   1538  We discuss tonight domestic issues, but I woul...      Claim\n",
       "13   1717  Mr. Khrushchev is in New York, and he maintain...    Premise\n",
       "14   1870  The Chinese Communists have always had a large...    Premise"
      ]
     },
     "execution_count": 45,
     "metadata": {},
     "output_type": "execute_result"
    }
   ],
   "source": [
    "df2.head()"
   ]
  },
  {
   "cell_type": "code",
   "execution_count": 46,
   "metadata": {},
   "outputs": [
    {
     "name": "stdout",
     "output_type": "stream",
     "text": [
      "We now have 23112 sentences of claims and premises only\n"
     ]
    }
   ],
   "source": [
    "print ('We now have', len(df2), 'sentences of claims and premises only')"
   ]
  },
  {
   "cell_type": "code",
   "execution_count": 49,
   "metadata": {},
   "outputs": [],
   "source": [
    "classes = []\n",
    "\n",
    "for a in df2.Annotation:\n",
    "    if a == 'Claim':\n",
    "        classes.append(1.0)\n",
    "    else:\n",
    "        classes.append(0.0)"
   ]
  },
  {
   "cell_type": "code",
   "execution_count": 50,
   "metadata": {},
   "outputs": [],
   "source": [
    "df2.Annotation = classes"
   ]
  },
  {
   "cell_type": "code",
   "execution_count": 51,
   "metadata": {},
   "outputs": [
    {
     "data": {
      "text/html": [
       "<div>\n",
       "<style scoped>\n",
       "    .dataframe tbody tr th:only-of-type {\n",
       "        vertical-align: middle;\n",
       "    }\n",
       "\n",
       "    .dataframe tbody tr th {\n",
       "        vertical-align: top;\n",
       "    }\n",
       "\n",
       "    .dataframe thead th {\n",
       "        text-align: right;\n",
       "    }\n",
       "</style>\n",
       "<table border=\"1\" class=\"dataframe\">\n",
       "  <thead>\n",
       "    <tr style=\"text-align: right;\">\n",
       "      <th></th>\n",
       "      <th>Index</th>\n",
       "      <th>Sentences</th>\n",
       "      <th>Annotation</th>\n",
       "    </tr>\n",
       "  </thead>\n",
       "  <tbody>\n",
       "    <tr>\n",
       "      <th>10</th>\n",
       "      <td>1098</td>\n",
       "      <td>In the election of 1960, and with the world ar...</td>\n",
       "      <td>0.0</td>\n",
       "    </tr>\n",
       "    <tr>\n",
       "      <th>11</th>\n",
       "      <td>1375</td>\n",
       "      <td>I think it will depend in great measure upon w...</td>\n",
       "      <td>1.0</td>\n",
       "    </tr>\n",
       "    <tr>\n",
       "      <th>12</th>\n",
       "      <td>1538</td>\n",
       "      <td>We discuss tonight domestic issues, but I woul...</td>\n",
       "      <td>1.0</td>\n",
       "    </tr>\n",
       "    <tr>\n",
       "      <th>13</th>\n",
       "      <td>1717</td>\n",
       "      <td>Mr. Khrushchev is in New York, and he maintain...</td>\n",
       "      <td>0.0</td>\n",
       "    </tr>\n",
       "    <tr>\n",
       "      <th>14</th>\n",
       "      <td>1870</td>\n",
       "      <td>The Chinese Communists have always had a large...</td>\n",
       "      <td>0.0</td>\n",
       "    </tr>\n",
       "  </tbody>\n",
       "</table>\n",
       "</div>"
      ],
      "text/plain": [
       "    Index                                          Sentences  Annotation\n",
       "10   1098  In the election of 1960, and with the world ar...         0.0\n",
       "11   1375  I think it will depend in great measure upon w...         1.0\n",
       "12   1538  We discuss tonight domestic issues, but I woul...         1.0\n",
       "13   1717  Mr. Khrushchev is in New York, and he maintain...         0.0\n",
       "14   1870  The Chinese Communists have always had a large...         0.0"
      ]
     },
     "execution_count": 51,
     "metadata": {},
     "output_type": "execute_result"
    }
   ],
   "source": [
    "df2.head()"
   ]
  },
  {
   "cell_type": "code",
   "execution_count": 54,
   "metadata": {},
   "outputs": [
    {
     "name": "stderr",
     "output_type": "stream",
     "text": [
      "/Users/mariap/anaconda3/lib/python3.7/site-packages/seaborn/_decorators.py:43: FutureWarning: Pass the following variable as a keyword arg: x. From version 0.12, the only valid positional argument will be `data`, and passing other arguments without an explicit keyword will result in an error or misinterpretation.\n",
      "  FutureWarning\n"
     ]
    },
    {
     "data": {
      "image/png": "[encoded data removed]",
      "text/plain": [
       "<Figure size 1440x864 with 1 Axes>"
      ]
     },
     "metadata": {
      "needs_background": "light"
     },
     "output_type": "display_data"
    }
   ],
   "source": [
    "plt.figure(figsize=(20,12))\n",
    "sns.countplot(df2.Annotation.sort_values(), palette=\"Set3\")\n",
    "plt.title(\"Premises vs Claims\",fontsize=20)\n",
    "loc, labels = plt.xticks()\n",
    "plt.xticks(fontsize=12,rotation=90)\n",
    "plt.show()"
   ]
  },
  {
   "cell_type": "code",
   "execution_count": 55,
   "metadata": {},
   "outputs": [],
   "source": [
    "X_train, X_test, y_train, y_test = train_test_split(df2['Sentences'], df2['Annotation'], test_size=0.3, shuffle=True)"
   ]
  },
  {
   "cell_type": "code",
   "execution_count": 56,
   "metadata": {},
   "outputs": [],
   "source": [
    "bow_train = bow.fit_transform(X_train).toarray()\n",
    "bow_test = bow.transform(X_test).toarray()"
   ]
  },
  {
   "cell_type": "code",
   "execution_count": 57,
   "metadata": {},
   "outputs": [
    {
     "data": {
      "text/plain": [
       "SVC(kernel='linear', random_state=1)"
      ]
     },
     "execution_count": 57,
     "metadata": {},
     "output_type": "execute_result"
    }
   ],
   "source": [
    "svm.fit(bow_train, y_train)"
   ]
  },
  {
   "cell_type": "code",
   "execution_count": 59,
   "metadata": {},
   "outputs": [],
   "source": [
    "#y_pred_train_bow = svm.predict(bow_train)\n",
    "y_pred_test_bow = svm.predict(bow_test)"
   ]
  },
  {
   "cell_type": "code",
   "execution_count": 60,
   "metadata": {},
   "outputs": [
    {
     "name": "stdout",
     "output_type": "stream",
     "text": [
      "              precision    recall  f1-score   support\n",
      "\n",
      "     class 0       0.57      0.40      0.47      3127\n",
      "     class 1       0.60      0.75      0.67      3807\n",
      "\n",
      "    accuracy                           0.59      6934\n",
      "   macro avg       0.59      0.57      0.57      6934\n",
      "weighted avg       0.59      0.59      0.58      6934\n",
      "\n"
     ]
    }
   ],
   "source": [
    "#classification report on test set\n",
    "target_names = ['class 0', 'class 1']\n",
    "print(classification_report(y_test, y_pred_test_bow, target_names=target_names))"
   ]
  }
 ],
 "metadata": {
  "kernelspec": {
   "display_name": "Python 3",
   "language": "python",
   "name": "python3"
  },
  "language_info": {
   "codemirror_mode": {
    "name": "ipython",
    "version": 3
   },
   "file_extension": ".py",
   "mimetype": "text/x-python",
   "name": "python",
   "nbconvert_exporter": "python",
   "pygments_lexer": "ipython3",
   "version": "3.7.7"
  }
 },
 "nbformat": 4,
 "nbformat_minor": 4
}
