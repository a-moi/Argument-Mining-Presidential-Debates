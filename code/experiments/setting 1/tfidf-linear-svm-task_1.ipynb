{
 "cells": [
  {
   "cell_type": "markdown",
   "metadata": {},
   "source": [
    "## Experimental Setting 1: Tf-idf for unigrams + linear SVM \n",
    "### Task 1: Classification Argument (contains either Claim or Premise) vs non-Argument "
   ]
  },
  {
   "cell_type": "markdown",
   "metadata": {},
   "source": [
    "**Importing necessary packages**"
   ]
  },
  {
   "cell_type": "code",
   "execution_count": 21,
   "metadata": {},
   "outputs": [],
   "source": [
    "import pandas as pd\n",
    "import numpy as np\n",
    "import string\n",
    "from sklearn.model_selection import train_test_split\n",
    "from sklearn.svm import SVC\n",
    "from sklearn.feature_extraction.text import TfidfVectorizer\n",
    "from sklearn.metrics import accuracy_score, confusion_matrix\n",
    "from sklearn.metrics import classification_report\n",
    "from sklearn.model_selection import GridSearchCV"
   ]
  },
  {
   "cell_type": "code",
   "execution_count": 2,
   "metadata": {},
   "outputs": [],
   "source": [
    "filename = '../../../data/sentence_db_candidate.csv'\n",
    "df = pd.read_csv(filename)"
   ]
  },
  {
   "cell_type": "code",
   "execution_count": 3,
   "metadata": {},
   "outputs": [
    {
     "data": {
      "text/plain": [
       "(29621, 18)"
      ]
     },
     "execution_count": 3,
     "metadata": {},
     "output_type": "execute_result"
    }
   ],
   "source": [
    "df.shape"
   ]
  },
  {
   "cell_type": "markdown",
   "metadata": {},
   "source": [
    "**Simple preprocessing of sentences with lowercasing and punctuation removal**"
   ]
  },
  {
   "cell_type": "code",
   "execution_count": 4,
   "metadata": {},
   "outputs": [],
   "source": [
    "def preproc(sentence):\n",
    "    sentence = sentence.lower()\n",
    "    sentence = ''.join([i for i in sentence if i not in string.punctuation])\n",
    "    return sentence"
   ]
  },
  {
   "cell_type": "code",
   "execution_count": 5,
   "metadata": {},
   "outputs": [],
   "source": [
    "df['Speech'] = df['Speech'].apply(preproc)"
   ]
  },
  {
   "cell_type": "code",
   "execution_count": 6,
   "metadata": {},
   "outputs": [
    {
     "data": {
      "text/html": [
       "<div>\n",
       "<style scoped>\n",
       "    .dataframe tbody tr th:only-of-type {\n",
       "        vertical-align: middle;\n",
       "    }\n",
       "\n",
       "    .dataframe tbody tr th {\n",
       "        vertical-align: top;\n",
       "    }\n",
       "\n",
       "    .dataframe thead th {\n",
       "        text-align: right;\n",
       "    }\n",
       "</style>\n",
       "<table border=\"1\" class=\"dataframe\">\n",
       "  <thead>\n",
       "    <tr style=\"text-align: right;\">\n",
       "      <th></th>\n",
       "      <th>Text</th>\n",
       "      <th>Part</th>\n",
       "      <th>Document</th>\n",
       "      <th>Order</th>\n",
       "      <th>Sentence</th>\n",
       "      <th>Start</th>\n",
       "      <th>End</th>\n",
       "      <th>Annotator</th>\n",
       "      <th>Tag</th>\n",
       "      <th>Component</th>\n",
       "      <th>Speech</th>\n",
       "      <th>Speaker</th>\n",
       "      <th>SpeakerType</th>\n",
       "      <th>Set</th>\n",
       "      <th>Date</th>\n",
       "      <th>Year</th>\n",
       "      <th>Name</th>\n",
       "      <th>MainTag</th>\n",
       "    </tr>\n",
       "  </thead>\n",
       "  <tbody>\n",
       "    <tr>\n",
       "      <th>0</th>\n",
       "      <td>CHENEY: Gwen, I want to thank you, and I want ...</td>\n",
       "      <td>1</td>\n",
       "      <td>30_2004</td>\n",
       "      <td>0</td>\n",
       "      <td>0</td>\n",
       "      <td>2101</td>\n",
       "      <td>2221</td>\n",
       "      <td>NaN</td>\n",
       "      <td>{\"O\": 27}</td>\n",
       "      <td>O</td>\n",
       "      <td>gwen i want to thank you and i want to thank ...</td>\n",
       "      <td>CHENEY</td>\n",
       "      <td>Candidate</td>\n",
       "      <td>TRAIN</td>\n",
       "      <td>05 Oct 2004</td>\n",
       "      <td>2004</td>\n",
       "      <td>Richard(Dick) B. Cheney</td>\n",
       "      <td>O</td>\n",
       "    </tr>\n",
       "    <tr>\n",
       "      <th>1</th>\n",
       "      <td>It's a very important event, and they've done ...</td>\n",
       "      <td>1</td>\n",
       "      <td>30_2004</td>\n",
       "      <td>1</td>\n",
       "      <td>1</td>\n",
       "      <td>2221</td>\n",
       "      <td>2304</td>\n",
       "      <td>NaN</td>\n",
       "      <td>{\"O\": 19}</td>\n",
       "      <td>O</td>\n",
       "      <td>its a very important event and theyve done a s...</td>\n",
       "      <td>CHENEY</td>\n",
       "      <td>Candidate</td>\n",
       "      <td>TRAIN</td>\n",
       "      <td>05 Oct 2004</td>\n",
       "      <td>2004</td>\n",
       "      <td>Richard(Dick) B. Cheney</td>\n",
       "      <td>O</td>\n",
       "    </tr>\n",
       "    <tr>\n",
       "      <th>2</th>\n",
       "      <td>It's important to look at all of our developme...</td>\n",
       "      <td>1</td>\n",
       "      <td>30_2004</td>\n",
       "      <td>2</td>\n",
       "      <td>2</td>\n",
       "      <td>2304</td>\n",
       "      <td>2418</td>\n",
       "      <td>NaN</td>\n",
       "      <td>{\"O\": 23}</td>\n",
       "      <td>O</td>\n",
       "      <td>its important to look at all of our developmen...</td>\n",
       "      <td>CHENEY</td>\n",
       "      <td>Candidate</td>\n",
       "      <td>TRAIN</td>\n",
       "      <td>05 Oct 2004</td>\n",
       "      <td>2004</td>\n",
       "      <td>Richard(Dick) B. Cheney</td>\n",
       "      <td>O</td>\n",
       "    </tr>\n",
       "    <tr>\n",
       "      <th>3</th>\n",
       "      <td>And, after 9/11, it became clear that we had t...</td>\n",
       "      <td>1</td>\n",
       "      <td>30_2004</td>\n",
       "      <td>3</td>\n",
       "      <td>3</td>\n",
       "      <td>2418</td>\n",
       "      <td>2744</td>\n",
       "      <td>NaN</td>\n",
       "      <td>{\"O\": 16, \"Claim\": 50}</td>\n",
       "      <td>Claim</td>\n",
       "      <td>and after 911 it became clear that we had to d...</td>\n",
       "      <td>CHENEY</td>\n",
       "      <td>Candidate</td>\n",
       "      <td>TRAIN</td>\n",
       "      <td>05 Oct 2004</td>\n",
       "      <td>2004</td>\n",
       "      <td>Richard(Dick) B. Cheney</td>\n",
       "      <td>Claim</td>\n",
       "    </tr>\n",
       "    <tr>\n",
       "      <th>4</th>\n",
       "      <td>And we also then finally had to stand up democ...</td>\n",
       "      <td>1</td>\n",
       "      <td>30_2004</td>\n",
       "      <td>4</td>\n",
       "      <td>4</td>\n",
       "      <td>2744</td>\n",
       "      <td>2974</td>\n",
       "      <td>NaN</td>\n",
       "      <td>{\"O\": 4, \"Claim\": 13, \"Premise\": 25}</td>\n",
       "      <td>Premise</td>\n",
       "      <td>and we also then finally had to stand up democ...</td>\n",
       "      <td>CHENEY</td>\n",
       "      <td>Candidate</td>\n",
       "      <td>TRAIN</td>\n",
       "      <td>05 Oct 2004</td>\n",
       "      <td>2004</td>\n",
       "      <td>Richard(Dick) B. Cheney</td>\n",
       "      <td>Mixed</td>\n",
       "    </tr>\n",
       "  </tbody>\n",
       "</table>\n",
       "</div>"
      ],
      "text/plain": [
       "                                                Text  Part Document  Order  \\\n",
       "0  CHENEY: Gwen, I want to thank you, and I want ...     1  30_2004      0   \n",
       "1  It's a very important event, and they've done ...     1  30_2004      1   \n",
       "2  It's important to look at all of our developme...     1  30_2004      2   \n",
       "3  And, after 9/11, it became clear that we had t...     1  30_2004      3   \n",
       "4  And we also then finally had to stand up democ...     1  30_2004      4   \n",
       "\n",
       "   Sentence  Start   End  Annotator                                   Tag  \\\n",
       "0         0   2101  2221        NaN                             {\"O\": 27}   \n",
       "1         1   2221  2304        NaN                             {\"O\": 19}   \n",
       "2         2   2304  2418        NaN                             {\"O\": 23}   \n",
       "3         3   2418  2744        NaN                {\"O\": 16, \"Claim\": 50}   \n",
       "4         4   2744  2974        NaN  {\"O\": 4, \"Claim\": 13, \"Premise\": 25}   \n",
       "\n",
       "  Component                                             Speech Speaker  \\\n",
       "0         O   gwen i want to thank you and i want to thank ...  CHENEY   \n",
       "1         O  its a very important event and theyve done a s...  CHENEY   \n",
       "2         O  its important to look at all of our developmen...  CHENEY   \n",
       "3     Claim  and after 911 it became clear that we had to d...  CHENEY   \n",
       "4   Premise  and we also then finally had to stand up democ...  CHENEY   \n",
       "\n",
       "  SpeakerType    Set         Date  Year                     Name MainTag  \n",
       "0   Candidate  TRAIN  05 Oct 2004  2004  Richard(Dick) B. Cheney       O  \n",
       "1   Candidate  TRAIN  05 Oct 2004  2004  Richard(Dick) B. Cheney       O  \n",
       "2   Candidate  TRAIN  05 Oct 2004  2004  Richard(Dick) B. Cheney       O  \n",
       "3   Candidate  TRAIN  05 Oct 2004  2004  Richard(Dick) B. Cheney   Claim  \n",
       "4   Candidate  TRAIN  05 Oct 2004  2004  Richard(Dick) B. Cheney   Mixed  "
      ]
     },
     "execution_count": 6,
     "metadata": {},
     "output_type": "execute_result"
    }
   ],
   "source": [
    "df.head()"
   ]
  },
  {
   "cell_type": "markdown",
   "metadata": {},
   "source": [
    "**Below we are turning labels marking Claims, Premises and None into machine-readable classes: 1 for claims and premises and 0 for none**"
   ]
  },
  {
   "cell_type": "code",
   "execution_count": 7,
   "metadata": {},
   "outputs": [],
   "source": [
    "valid = ['Claim', 'Premise', 'O']\n",
    "df = df.loc[(df['Component'].isin(valid))]"
   ]
  },
  {
   "cell_type": "code",
   "execution_count": 9,
   "metadata": {},
   "outputs": [],
   "source": [
    "classes = []\n",
    "\n",
    "for s in df.Component:\n",
    "    if s == 'O':\n",
    "        classes.append(0.0)\n",
    "    else:\n",
    "        classes.append(1.0)"
   ]
  },
  {
   "cell_type": "code",
   "execution_count": 10,
   "metadata": {},
   "outputs": [],
   "source": [
    "df['Annotation'] = classes"
   ]
  },
  {
   "cell_type": "code",
   "execution_count": 11,
   "metadata": {},
   "outputs": [
    {
     "data": {
      "text/plain": [
       "1.0    22280\n",
       "0.0     7252\n",
       "Name: Annotation, dtype: int64"
      ]
     },
     "execution_count": 11,
     "metadata": {},
     "output_type": "execute_result"
    }
   ],
   "source": [
    "df.Annotation.value_counts()"
   ]
  },
  {
   "cell_type": "markdown",
   "metadata": {},
   "source": [
    "**Splitting the data into three sets. Our sets will be identical to those of authors**"
   ]
  },
  {
   "cell_type": "code",
   "execution_count": 12,
   "metadata": {},
   "outputs": [],
   "source": [
    "df_train = df[df['Set'] == 'TRAIN']\n",
    "df_val = df[df['Set'] == 'VALIDATION']\n",
    "df_test = df[df['Set'] == 'TEST']"
   ]
  },
  {
   "cell_type": "markdown",
   "metadata": {},
   "source": [
    "**Separating features set and target variable set**"
   ]
  },
  {
   "cell_type": "code",
   "execution_count": 13,
   "metadata": {},
   "outputs": [],
   "source": [
    "X_train = df_train.Speech\n",
    "y_train = df_train.Annotation\n",
    "\n",
    "X_test = df_test.Speech\n",
    "y_test = df_test.Annotation\n",
    "\n",
    "X_val = df_val.Speech\n",
    "y_val = df_val.Annotation"
   ]
  },
  {
   "cell_type": "markdown",
   "metadata": {},
   "source": [
    "**Initializing tf-idf feature matrix. Fitting and transforming sentences on a train set and only transforming on a validation and test sets. We will be using the whole vocabulary, here it is 9.833 words**"
   ]
  },
  {
   "cell_type": "code",
   "execution_count": 15,
   "metadata": {},
   "outputs": [],
   "source": [
    "tfidf = TfidfVectorizer()\n",
    "\n",
    "train_tfidf =  tfidf.fit_transform(X_train)\n",
    "val_tfidf = tfidf.transform(X_val)\n",
    "test_tfidf = tfidf.transform(X_test)"
   ]
  },
  {
   "cell_type": "code",
   "execution_count": 16,
   "metadata": {},
   "outputs": [
    {
     "data": {
      "text/plain": [
       "<14044x9833 sparse matrix of type '<class 'numpy.float64'>'\n",
       "\twith 195357 stored elements in Compressed Sparse Row format>"
      ]
     },
     "execution_count": 16,
     "metadata": {},
     "output_type": "execute_result"
    }
   ],
   "source": [
    "train_tfidf"
   ]
  },
  {
   "cell_type": "markdown",
   "metadata": {},
   "source": [
    "### Part 1: Replication"
   ]
  },
  {
   "cell_type": "markdown",
   "metadata": {},
   "source": [
    "**First of all, repeating the authors' setting. Kernel is `linear`, penalty parameter `C=10`**"
   ]
  },
  {
   "cell_type": "code",
   "execution_count": 17,
   "metadata": {},
   "outputs": [
    {
     "data": {
      "text/plain": [
       "SVC(C=10, kernel='linear', random_state=42)"
      ]
     },
     "execution_count": 17,
     "metadata": {},
     "output_type": "execute_result"
    }
   ],
   "source": [
    "svm = SVC(kernel='linear', C=10, random_state=42)\n",
    "svm.fit(train_tfidf, y_train)"
   ]
  },
  {
   "cell_type": "code",
   "execution_count": 18,
   "metadata": {},
   "outputs": [],
   "source": [
    "y_pred_test_svm = svm.predict(test_tfidf)"
   ]
  },
  {
   "cell_type": "markdown",
   "metadata": {},
   "source": [
    "**class 1 stands for ARGUMENT, class 0 stands for NONE**"
   ]
  },
  {
   "cell_type": "code",
   "execution_count": 20,
   "metadata": {},
   "outputs": [
    {
     "name": "stdout",
     "output_type": "stream",
     "text": [
      "              precision    recall  f1-score   support\n",
      "\n",
      "     class 0      0.467     0.462     0.465      1880\n",
      "     class 1      0.847     0.849     0.848      6575\n",
      "\n",
      "    accuracy                          0.763      8455\n",
      "   macro avg      0.657     0.656     0.656      8455\n",
      "weighted avg      0.762     0.763     0.763      8455\n",
      "\n"
     ]
    }
   ],
   "source": [
    "#classification report on test set SVM\n",
    "target_names = ['class 0', 'class 1']\n",
    "print(classification_report(y_test, y_pred_test_svm, target_names=target_names, digits=3))"
   ]
  },
  {
   "cell_type": "markdown",
   "metadata": {},
   "source": [
    "                precision    recall  f1-score   support\n",
    "\n",
    "     class 0      0.467     0.462     0.465      1880\n",
    "     class 1      0.847     0.849     0.848      6575\n",
    "\n",
    "    accuracy                          0.763      8455\n",
    "    macro avg     0.657     0.656     0.656      8455\n",
    "    weighted avg  0.762     0.763     0.763      8455"
   ]
  },
  {
   "cell_type": "markdown",
   "metadata": {},
   "source": [
    "### Part 2: Hyperparameter tuning"
   ]
  },
  {
   "cell_type": "markdown",
   "metadata": {},
   "source": [
    "**First, initializing the parameters grid. We are tuning parameters `C` and `gamma`**"
   ]
  },
  {
   "cell_type": "code",
   "execution_count": 36,
   "metadata": {},
   "outputs": [],
   "source": [
    "param_grid = {'C': [0.1, 1, 5, 10], 'gamma': [1, 0.1, 0.01]}"
   ]
  },
  {
   "cell_type": "code",
   "execution_count": 37,
   "metadata": {},
   "outputs": [
    {
     "name": "stdout",
     "output_type": "stream",
     "text": [
      "Fitting 5 folds for each of 12 candidates, totalling 60 fits\n",
      "[CV] C=0.1, gamma=1 ..................................................\n"
     ]
    },
    {
     "name": "stderr",
     "output_type": "stream",
     "text": [
      "[Parallel(n_jobs=1)]: Using backend SequentialBackend with 1 concurrent workers.\n"
     ]
    },
    {
     "name": "stdout",
     "output_type": "stream",
     "text": [
      "[CV] ................................... C=0.1, gamma=1, total=   3.8s\n",
      "[CV] C=0.1, gamma=1 ..................................................\n"
     ]
    },
    {
     "name": "stderr",
     "output_type": "stream",
     "text": [
      "[Parallel(n_jobs=1)]: Done   1 out of   1 | elapsed:    3.8s remaining:    0.0s\n"
     ]
    },
    {
     "name": "stdout",
     "output_type": "stream",
     "text": [
      "[CV] ................................... C=0.1, gamma=1, total=   3.7s\n",
      "[CV] C=0.1, gamma=1 ..................................................\n",
      "[CV] ................................... C=0.1, gamma=1, total=   3.5s\n",
      "[CV] C=0.1, gamma=1 ..................................................\n",
      "[CV] ................................... C=0.1, gamma=1, total=   3.7s\n",
      "[CV] C=0.1, gamma=1 ..................................................\n",
      "[CV] ................................... C=0.1, gamma=1, total=   3.6s\n",
      "[CV] C=0.1, gamma=0.1 ................................................\n",
      "[CV] ................................. C=0.1, gamma=0.1, total=   3.3s\n",
      "[CV] C=0.1, gamma=0.1 ................................................\n",
      "[CV] ................................. C=0.1, gamma=0.1, total=   3.5s\n",
      "[CV] C=0.1, gamma=0.1 ................................................\n",
      "[CV] ................................. C=0.1, gamma=0.1, total=   3.5s\n",
      "[CV] C=0.1, gamma=0.1 ................................................\n",
      "[CV] ................................. C=0.1, gamma=0.1, total=   3.5s\n",
      "[CV] C=0.1, gamma=0.1 ................................................\n",
      "[CV] ................................. C=0.1, gamma=0.1, total=   3.7s\n",
      "[CV] C=0.1, gamma=0.01 ...............................................\n",
      "[CV] ................................ C=0.1, gamma=0.01, total=   3.3s\n",
      "[CV] C=0.1, gamma=0.01 ...............................................\n",
      "[CV] ................................ C=0.1, gamma=0.01, total=   3.5s\n",
      "[CV] C=0.1, gamma=0.01 ...............................................\n",
      "[CV] ................................ C=0.1, gamma=0.01, total=   3.5s\n",
      "[CV] C=0.1, gamma=0.01 ...............................................\n",
      "[CV] ................................ C=0.1, gamma=0.01, total=   3.5s\n",
      "[CV] C=0.1, gamma=0.01 ...............................................\n",
      "[CV] ................................ C=0.1, gamma=0.01, total=   3.5s\n",
      "[CV] C=1, gamma=1 ....................................................\n",
      "[CV] ..................................... C=1, gamma=1, total=   3.2s\n",
      "[CV] C=1, gamma=1 ....................................................\n",
      "[CV] ..................................... C=1, gamma=1, total=   3.5s\n",
      "[CV] C=1, gamma=1 ....................................................\n",
      "[CV] ..................................... C=1, gamma=1, total=   3.4s\n",
      "[CV] C=1, gamma=1 ....................................................\n",
      "[CV] ..................................... C=1, gamma=1, total=   3.5s\n",
      "[CV] C=1, gamma=1 ....................................................\n",
      "[CV] ..................................... C=1, gamma=1, total=   3.5s\n",
      "[CV] C=1, gamma=0.1 ..................................................\n",
      "[CV] ................................... C=1, gamma=0.1, total=   3.1s\n",
      "[CV] C=1, gamma=0.1 ..................................................\n",
      "[CV] ................................... C=1, gamma=0.1, total=   3.5s\n",
      "[CV] C=1, gamma=0.1 ..................................................\n",
      "[CV] ................................... C=1, gamma=0.1, total=   3.4s\n",
      "[CV] C=1, gamma=0.1 ..................................................\n",
      "[CV] ................................... C=1, gamma=0.1, total=   3.4s\n",
      "[CV] C=1, gamma=0.1 ..................................................\n",
      "[CV] ................................... C=1, gamma=0.1, total=   3.5s\n",
      "[CV] C=1, gamma=0.01 .................................................\n",
      "[CV] .................................. C=1, gamma=0.01, total=   3.2s\n",
      "[CV] C=1, gamma=0.01 .................................................\n",
      "[CV] .................................. C=1, gamma=0.01, total=   3.5s\n",
      "[CV] C=1, gamma=0.01 .................................................\n",
      "[CV] .................................. C=1, gamma=0.01, total=   3.7s\n",
      "[CV] C=1, gamma=0.01 .................................................\n",
      "[CV] .................................. C=1, gamma=0.01, total=   3.5s\n",
      "[CV] C=1, gamma=0.01 .................................................\n",
      "[CV] .................................. C=1, gamma=0.01, total=   3.5s\n",
      "[CV] C=5, gamma=1 ....................................................\n",
      "[CV] ..................................... C=5, gamma=1, total=   3.5s\n",
      "[CV] C=5, gamma=1 ....................................................\n",
      "[CV] ..................................... C=5, gamma=1, total=   3.9s\n",
      "[CV] C=5, gamma=1 ....................................................\n",
      "[CV] ..................................... C=5, gamma=1, total=   3.7s\n",
      "[CV] C=5, gamma=1 ....................................................\n",
      "[CV] ..................................... C=5, gamma=1, total=   3.9s\n",
      "[CV] C=5, gamma=1 ....................................................\n",
      "[CV] ..................................... C=5, gamma=1, total=   4.0s\n",
      "[CV] C=5, gamma=0.1 ..................................................\n",
      "[CV] ................................... C=5, gamma=0.1, total=   3.6s\n",
      "[CV] C=5, gamma=0.1 ..................................................\n",
      "[CV] ................................... C=5, gamma=0.1, total=   3.9s\n",
      "[CV] C=5, gamma=0.1 ..................................................\n",
      "[CV] ................................... C=5, gamma=0.1, total=   3.7s\n",
      "[CV] C=5, gamma=0.1 ..................................................\n",
      "[CV] ................................... C=5, gamma=0.1, total=   3.9s\n",
      "[CV] C=5, gamma=0.1 ..................................................\n",
      "[CV] ................................... C=5, gamma=0.1, total=   3.9s\n",
      "[CV] C=5, gamma=0.01 .................................................\n",
      "[CV] .................................. C=5, gamma=0.01, total=   3.5s\n",
      "[CV] C=5, gamma=0.01 .................................................\n",
      "[CV] .................................. C=5, gamma=0.01, total=   3.9s\n",
      "[CV] C=5, gamma=0.01 .................................................\n",
      "[CV] .................................. C=5, gamma=0.01, total=   3.7s\n",
      "[CV] C=5, gamma=0.01 .................................................\n",
      "[CV] .................................. C=5, gamma=0.01, total=   3.8s\n",
      "[CV] C=5, gamma=0.01 .................................................\n",
      "[CV] .................................. C=5, gamma=0.01, total=   3.8s\n",
      "[CV] C=10, gamma=1 ...................................................\n",
      "[CV] .................................... C=10, gamma=1, total=   3.8s\n",
      "[CV] C=10, gamma=1 ...................................................\n",
      "[CV] .................................... C=10, gamma=1, total=   4.3s\n",
      "[CV] C=10, gamma=1 ...................................................\n",
      "[CV] .................................... C=10, gamma=1, total=   4.0s\n",
      "[CV] C=10, gamma=1 ...................................................\n",
      "[CV] .................................... C=10, gamma=1, total=   4.1s\n",
      "[CV] C=10, gamma=1 ...................................................\n",
      "[CV] .................................... C=10, gamma=1, total=   4.1s\n",
      "[CV] C=10, gamma=0.1 .................................................\n",
      "[CV] .................................. C=10, gamma=0.1, total=   3.8s\n",
      "[CV] C=10, gamma=0.1 .................................................\n",
      "[CV] .................................. C=10, gamma=0.1, total=   4.3s\n",
      "[CV] C=10, gamma=0.1 .................................................\n",
      "[CV] .................................. C=10, gamma=0.1, total=   4.0s\n",
      "[CV] C=10, gamma=0.1 .................................................\n",
      "[CV] .................................. C=10, gamma=0.1, total=   4.2s\n",
      "[CV] C=10, gamma=0.1 .................................................\n",
      "[CV] .................................. C=10, gamma=0.1, total=   4.1s\n",
      "[CV] C=10, gamma=0.01 ................................................\n",
      "[CV] ................................. C=10, gamma=0.01, total=   3.7s\n",
      "[CV] C=10, gamma=0.01 ................................................\n",
      "[CV] ................................. C=10, gamma=0.01, total=   4.3s\n",
      "[CV] C=10, gamma=0.01 ................................................\n",
      "[CV] ................................. C=10, gamma=0.01, total=   4.1s\n",
      "[CV] C=10, gamma=0.01 ................................................\n",
      "[CV] ................................. C=10, gamma=0.01, total=   4.2s\n",
      "[CV] C=10, gamma=0.01 ................................................\n"
     ]
    },
    {
     "name": "stdout",
     "output_type": "stream",
     "text": [
      "[CV] ................................. C=10, gamma=0.01, total=   4.1s\n"
     ]
    },
    {
     "name": "stderr",
     "output_type": "stream",
     "text": [
      "[Parallel(n_jobs=1)]: Done  60 out of  60 | elapsed:  3.7min finished\n"
     ]
    },
    {
     "data": {
      "text/plain": [
       "GridSearchCV(estimator=SVC(kernel='linear'),\n",
       "             param_grid={'C': [0.1, 1, 5, 10], 'gamma': [1, 0.1, 0.01]},\n",
       "             verbose=2)"
      ]
     },
     "execution_count": 37,
     "metadata": {},
     "output_type": "execute_result"
    }
   ],
   "source": [
    "grid = GridSearchCV(SVC(kernel='linear'), param_grid, refit=True, verbose=2)\n",
    "grid.fit(val_tfidf, y_val)"
   ]
  },
  {
   "cell_type": "code",
   "execution_count": 38,
   "metadata": {},
   "outputs": [
    {
     "data": {
      "text/plain": [
       "{'C': 1, 'gamma': 1}"
      ]
     },
     "execution_count": 38,
     "metadata": {},
     "output_type": "execute_result"
    }
   ],
   "source": [
    "grid.best_params_"
   ]
  },
  {
   "cell_type": "markdown",
   "metadata": {},
   "source": [
    "`'C': 1, 'gamma': 1`"
   ]
  },
  {
   "cell_type": "markdown",
   "metadata": {},
   "source": [
    "### Part 3: Training and testing with the best parameters"
   ]
  },
  {
   "cell_type": "markdown",
   "metadata": {},
   "source": [
    "**As the tuning above shows, the best parameters are `C=1` and `gamma=1`. Now we shall train and test the model with this parameter setting**"
   ]
  },
  {
   "cell_type": "code",
   "execution_count": 32,
   "metadata": {},
   "outputs": [],
   "source": [
    "svm_best = SVC(kernel='linear', C=1, gamma=1, random_state=42)"
   ]
  },
  {
   "cell_type": "code",
   "execution_count": 33,
   "metadata": {},
   "outputs": [
    {
     "data": {
      "text/plain": [
       "SVC(C=1, gamma=1, kernel='linear', random_state=42)"
      ]
     },
     "execution_count": 33,
     "metadata": {},
     "output_type": "execute_result"
    }
   ],
   "source": [
    "svm_best.fit(train_tfidf, y_train)"
   ]
  },
  {
   "cell_type": "code",
   "execution_count": 34,
   "metadata": {},
   "outputs": [],
   "source": [
    "y_pred_test_svm_best = svm_best.predict(test_tfidf)"
   ]
  },
  {
   "cell_type": "code",
   "execution_count": 35,
   "metadata": {},
   "outputs": [
    {
     "name": "stdout",
     "output_type": "stream",
     "text": [
      "              precision    recall  f1-score   support\n",
      "\n",
      "     class 0      0.711     0.337     0.457      1880\n",
      "     class 1      0.835     0.961     0.894      6575\n",
      "\n",
      "    accuracy                          0.822      8455\n",
      "   macro avg      0.773     0.649     0.676      8455\n",
      "weighted avg      0.808     0.822     0.797      8455\n",
      "\n"
     ]
    }
   ],
   "source": [
    "target_names = ['class 0', 'class 1']\n",
    "print(classification_report(y_test, y_pred_test_svm_best, target_names=target_names, digits=3))"
   ]
  },
  {
   "cell_type": "markdown",
   "metadata": {},
   "source": [
    "               precision    recall  f1-score   support\n",
    "\n",
    "     class 0      0.711     0.337     0.457      1880\n",
    "     class 1      0.835     0.961     0.894      6575\n",
    "\n",
    "    accuracy                          0.822      8455\n",
    "    macro avg     0.773     0.649     0.676      8455\n",
    "    weighted avg  0.808     0.822     0.797      8455\n"
   ]
  },
  {
   "cell_type": "markdown",
   "metadata": {},
   "source": [
    "**Conclusion: we have reached results comparable to authors before and after hyperparameter tuning. After tuning, our f1-score for class 1 (Argument) is higher than the authors' value: 0.894 vs 0.855, while our f1-score for class 0 (None) is slightly lower. Our overall f1-score for both classes (0.797) is higher than the authors' (0.737)**"
   ]
  }
 ],
 "metadata": {
  "kernelspec": {
   "display_name": "Python 3",
   "language": "python",
   "name": "python3"
  },
  "language_info": {
   "codemirror_mode": {
    "name": "ipython",
    "version": 3
   },
   "file_extension": ".py",
   "mimetype": "text/x-python",
   "name": "python",
   "nbconvert_exporter": "python",
   "pygments_lexer": "ipython3",
   "version": "3.7.7"
  }
 },
 "nbformat": 4,
 "nbformat_minor": 4
}
